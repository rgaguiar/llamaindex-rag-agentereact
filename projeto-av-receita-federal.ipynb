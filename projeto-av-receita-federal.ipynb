{
 "cells": [
  {
   "cell_type": "markdown",
   "id": "7c9aee6d",
   "metadata": {},
   "source": [
    "# Projeto Assistente Virtual da Receita Federal"
   ]
  },
  {
   "cell_type": "markdown",
   "id": "01d330ef",
   "metadata": {},
   "source": [
    "## Preparando o ambiente"
   ]
  },
  {
   "cell_type": "code",
   "execution_count": null,
   "id": "9814b7d6",
   "metadata": {},
   "outputs": [],
   "source": [
    "# ============= setup =============\n",
    "import os\n",
    "from llama_index.core import VectorStoreIndex, SimpleDirectoryReader, Settings\n",
    "from llama_index.embeddings.huggingface import HuggingFaceEmbedding\n",
    "from llama_index.llms.groq import Groq\n",
    "from dotenv import load_dotenv\n",
    "import nest_asyncio\n",
    "\n",
    "from IPython.display import display, HTML\n",
    "from llama_index.core.prompts import PromptTemplate\n",
    "\n",
    "from llama_index.embeddings.gemini import GeminiEmbedding\n",
    "from llama_index.llms.gemini import Gemini\n",
    "\n",
    "from llama_index.core.tools import QueryEngineTool, ToolMetadata\n",
    "from llama_index.core.agent.workflow import FunctionAgent\n",
    "from llama_index.core.agent import ReActAgent\n",
    "from workflows.events import StopEvent\n",
    "\n",
    "import warnings\n",
    "warnings.filterwarnings('ignore')"
   ]
  },
  {
   "cell_type": "code",
   "execution_count": 27,
   "id": "99ca2cd1",
   "metadata": {},
   "outputs": [],
   "source": [
    "# Aplicar o nest_asyncio - a biblioteca asyncio controla a execução de funções assíncronas\n",
    "nest_asyncio.apply()\n",
    "\n",
    "# Carregar as variáveis de ambiente\n",
    "load_dotenv(override=True)\n",
    "\n",
    "# acesse o site da openai e crie uma chave de api\n",
    "groq_api_key = os.getenv('GROQ_API_KEY') # modelo llm - https://groq.com/\n",
    "hf_api_key = os.getenv('HF_API_KEY') # modelo de embedding - https://huggingface.co/\n",
    "gemini_api_key = os.getenv('GOOGLE_API_KEY')"
   ]
  },
  {
   "cell_type": "code",
   "execution_count": null,
   "id": "8efb2dea",
   "metadata": {},
   "outputs": [],
   "source": [
    "# Configuração global  \n",
    "# llm\n",
    "Settings.llm = Gemini(\n",
    "    model=\"models/gemini-2.5-flash\", \n",
    "    api_key=gemini_api_key\n",
    ")  \n",
    "\n",
    "# modelo de embedding \n",
    "Settings.embed_model = GeminiEmbedding(\n",
    "    model_name=\"models/embedding-001\",\n",
    "    token=hf_api_key\n",
    ")\n",
    "\n",
    "Settings.chunk_size = 1024 # antes 512\n",
    "Settings.chunk_overlap = 200 # antes 64"
   ]
  },
  {
   "cell_type": "code",
   "execution_count": 52,
   "id": "e8546124",
   "metadata": {},
   "outputs": [],
   "source": [
    "# ============= carregar os dados =============\n",
    "from llama_index.core import SimpleDirectoryReader\n",
    "\n",
    "pf_docs = SimpleDirectoryReader(input_files=[\"./knowledge_base/faq_iprrf_pf.pdf\"]).load_data()      # manual de perguntas e respostas para PF\n",
    "pj_docs = SimpleDirectoryReader(input_files=[\"./knowledge_base/faq_pj.pdf\"]).load_data()            # manual de perguntas e respostas para PJ\n",
    "pj_mei_docs = SimpleDirectoryReader(input_files=[\"./knowledge_base/faq_pj_mei.pdf\"]).load_data()    # manual de perguntas e respostas para PJ MEI"
   ]
  },
  {
   "cell_type": "code",
   "execution_count": 53,
   "id": "9db8d4a4",
   "metadata": {},
   "outputs": [],
   "source": [
    "# ============= PF =============\n",
    "# template de prompt\n",
    "template_prompt_acessivel = (\n",
    "    \"As informações de contexto relevantes estão abaixo.\\n\"\n",
    "    \"---------------------\\n\"\n",
    "    \"{context_str}\\n\"\n",
    "    \"---------------------\\n\"\n",
    "    \"Sua tarefa é atuar como um assistente de imposto de renda amigável. \"\n",
    "    \"Use apenas as informações de contexto fornecidas para responder à pergunta do usuário. \"\n",
    "    \"Responda em português, de forma simples, direta e fácil de entender, como se estivesse explicando para alguém sem conhecimento do assunto. \"\n",
    "    \"Evite jargão técnico e linguagem complicada.\\n\\n\"\n",
    "    \"Pergunta do usuário: {query_str}\\n\"\n",
    "    \"Resposta Acessível: \"\n",
    ")\n",
    "\n",
    "prompt_acessivel = PromptTemplate(template_prompt_acessivel)\n"
   ]
  },
  {
   "cell_type": "markdown",
   "id": "1fe758b7",
   "metadata": {},
   "source": [
    "### Recuperação de reposta relacionado a pessoa física"
   ]
  },
  {
   "cell_type": "code",
   "execution_count": 33,
   "id": "f167ac26",
   "metadata": {},
   "outputs": [],
   "source": [
    "# indexação\n",
    "pf_index = VectorStoreIndex.from_documents(pf_docs)\n",
    "\n",
    "# criando o motor de busca\n",
    "pf_query_engine = pf_index.as_query_engine(\n",
    "    similarity_top_k=3,                         # \n",
    "    text_qa_template=prompt_acessivel           # \n",
    ")"
   ]
  },
  {
   "cell_type": "code",
   "execution_count": 34,
   "id": "b070aa4b",
   "metadata": {},
   "outputs": [],
   "source": [
    "# Fazendo a pergunta de teste\n",
    "response = pf_query_engine.query(\"Como declaro o aluguel que recebi de um imóvel?\")"
   ]
  },
  {
   "cell_type": "markdown",
   "id": "6b5c6ba3",
   "metadata": {},
   "source": [
    "### Exemplo para comparação (modelo llama3.3-8b)"
   ]
  },
  {
   "cell_type": "code",
   "execution_count": 25,
   "id": "566f9790",
   "metadata": {},
   "outputs": [
    {
     "data": {
      "text/html": [
       "<p style=\"font-size:20px\">Olá!\n",
       "\n",
       "Para declarar o aluguel que você recebeu de um imóvel, você precisa incluir esse valor na sua Declaração de Ajuste Anual (DAA). Lembre-se de que o aluguel é considerado rendimento e, portanto, é tributável.\n",
       "\n",
       "Se você é pessoa física, você precisa incluir o valor do aluguel na seção \"Rendimentos de Imóveis\" da sua DAA. Se você é pessoa jurídica, você precisa incluir o valor do aluguel na seção \"Rendimentos de Imóveis\" da sua DAA e também recolher o imposto de renda correspondente.\n",
       "\n",
       "Lembre-se de que você também precisa incluir o valor do aluguel na sua declaração retificadora, se você tiver retificado a sua declaração anterior.\n",
       "\n",
       "Além disso, se você recebeu o aluguel de uma pessoa física, você precisa recolher o imposto de renda correspondente no prazo estabelecido. Se você recebeu o aluguel de uma pessoa jurídica, você precisa reter o imposto de renda correspondente na fonte.\n",
       "\n",
       "Se você tiver alguma dúvida ou precisar de mais informações, sinta-se à vontade para perguntar!</p>"
      ],
      "text/plain": [
       "<IPython.core.display.HTML object>"
      ]
     },
     "metadata": {},
     "output_type": "display_data"
    },
    {
     "name": "stdout",
     "output_type": "stream",
     "text": [
      "\n",
      "--- Fontes Consultadas ---\n",
      "Fonte 1:\n",
      "  - Documento: faq_iprrf_pf.pdf\n",
      "  - Página: 37\n",
      "  - Relevância (Score): 0.5692\n",
      "  - Trecho do Texto: \"37 \n",
      "RETIFICAÇÃO - PRAZO \n",
      "044 — Há limite de prazo para a retificação da declaração? \n",
      "Sim. Extingue-se em cinco anos o direito de o contribuinte retificar a declaração de rendimentos, inclusive \n",
      "quanto...\"\n",
      "\n",
      "Fonte 2:\n",
      "  - Documento: faq_iprrf_pf.pdf\n",
      "  - Página: 106\n",
      "  - Relevância (Score): 0.5659\n",
      "  - Trecho do Texto: \"106 \n",
      "RENDIMENTOS DE IMÓVEL CEDIDO \n",
      "210 — Como tratar os rendimentos produzidos por imóvel cujo direito de exploração tenha sido \n",
      "cedido, por meio de contrato, a terceiros? \n",
      "Esses rendimentos são tribu...\"\n",
      "\n",
      "Fonte 3:\n",
      "  - Documento: faq_iprrf_pf.pdf\n",
      "  - Página: 104\n",
      "  - Relevância (Score): 0.5534\n",
      "  - Trecho do Texto: \"0190”) da DAA. \n",
      "Atenção:  \n",
      "Para determinação da base de cálculo sujeita ao recolhimento mensal obrigatório (carnê-leão), no \n",
      "caso de rendimentos de aluguéis de imóveis pagos por pessoa física, e no ca...\"\n",
      "\n"
     ]
    }
   ],
   "source": [
    "# Exibindo a resposta\n",
    "display(HTML(f'<p style=\"font-size:20px\">{response.response}</p>'))\n",
    "\n",
    "print(\"\\n--- Fontes Consultadas ---\")\n",
    "\n",
    "# Verifique se existem nós de origem antes de tentar iterar sobre eles\n",
    "if response.source_nodes:\n",
    "    for i, node in enumerate(response.source_nodes):\n",
    "        # Extrai as informações do metadado do nó\n",
    "        file_name = node.metadata.get('file_name', 'N/A')\n",
    "        page_label = node.metadata.get('page_label', 'N/A')\n",
    "        \n",
    "        # Extrai o score de similaridade\n",
    "        similarity_score = node.score\n",
    "        \n",
    "        # Extrai o conteúdo do nó (o texto)\n",
    "        node_content = node.get_content()\n",
    "\n",
    "        print(f\"Fonte {i+1}:\")\n",
    "        print(f\"  - Documento: {file_name}\")\n",
    "        print(f\"  - Página: {page_label}\")\n",
    "        print(f\"  - Relevância (Score): {similarity_score:.4f}\")\n",
    "        # Exibe um trecho do texto para contexto\n",
    "        print(f\"  - Trecho do Texto: \\\"{node_content[:200].strip()}...\\\"\\n\")\n",
    "else:\n",
    "    print(\"Nenhuma fonte foi utilizada para gerar esta resposta.\")"
   ]
  },
  {
   "cell_type": "code",
   "execution_count": 35,
   "id": "abc3e159",
   "metadata": {},
   "outputs": [
    {
     "data": {
      "text/html": [
       "<p style=\"font-size:20px\">Para declarar o aluguel que você recebeu de um imóvel, siga estas orientações:\n",
       "\n",
       "1.  **Se o inquilino for uma pessoa física (outra pessoa, não uma empresa):** Você precisa fazer um recolhimento mensal do imposto, usando um sistema chamado \"carnê-leão\".\n",
       "2.  **Se o inquilino for uma pessoa jurídica (uma empresa):** O imposto já é retido na fonte pela própria empresa que te paga o aluguel.\n",
       "3.  **Em ambos os casos:** Você deve incluir esses valores como rendimentos tributáveis na sua Declaração de Ajuste Anual (a declaração de imposto de renda que você faz uma vez por ano).\n",
       "\n",
       "**Sobre o IPTU (Imposto sobre a Propriedade Predial e Territorial Urbana):**\n",
       "Você pode diminuir o valor do aluguel que você declara pelo valor do IPTU, desde que você, como locador (dono do imóvel), tenha sido o responsável por pagar esse imposto. Isso vale mesmo que você tenha recebido aluguel por apenas parte do ano, ou se pagou o IPTU à vista ou parcelado, contanto que o pagamento do imposto tenha ocorrido no mesmo ano em que você recebeu o aluguel.</p>"
      ],
      "text/plain": [
       "<IPython.core.display.HTML object>"
      ]
     },
     "metadata": {},
     "output_type": "display_data"
    },
    {
     "name": "stdout",
     "output_type": "stream",
     "text": [
      "\n",
      "--- Fontes Consultadas ---\n",
      "Fonte 1:\n",
      "  - Documento: faq_iprrf_pf.pdf\n",
      "  - Página: 184\n",
      "  - Relevância (Score): 0.7833\n",
      "  - Trecho do Texto: \"Sim, desde que o encargo tenha sido do locador.  \n",
      "Podem ser excluídos do valor do aluguel recebido, quando o encargo tenha sido do locador, as quantias \n",
      "relativas ao pagamento do Imposto sobre a Propr...\"\n",
      "\n",
      "Fonte 2:\n",
      "  - Documento: faq_iprrf_pf.pdf\n",
      "  - Página: 105\n",
      "  - Relevância (Score): 0.7578\n",
      "  - Trecho do Texto: \"Os rendimentos do \n",
      "aluguel são tributáveis em nome do filho. \n",
      "Se não houver escritura averbada, o pai, ao relacionar o imóvel em sua Declaração de Bens e Direitos, informa \n",
      "que os rendimentos respecti...\"\n",
      "\n",
      "Fonte 3:\n",
      "  - Documento: faq_iprrf_pf.pdf\n",
      "  - Página: 105\n",
      "  - Relevância (Score): 0.7564\n",
      "  - Trecho do Texto: \"(Decreto-Lei nº 5.844, de 23 de setembro de 1943, art. 100, parágrafo único, alínea ‘a’; Regulamento \n",
      "do Imposto sobre a Renda – RIR/2018, arts. 744, 763 e 781, aprovado pelo Decreto nº 9.580, de \n",
      "22...\"\n",
      "\n"
     ]
    }
   ],
   "source": [
    "# Exibindo a resposta\n",
    "display(HTML(f'<p style=\"font-size:20px\">{response.response}</p>'))\n",
    "\n",
    "print(\"\\n--- Fontes Consultadas ---\")\n",
    "\n",
    "# Verifique se existem nós de origem antes de tentar iterar sobre eles\n",
    "if response.source_nodes:\n",
    "    for i, node in enumerate(response.source_nodes):\n",
    "        # Extrai as informações do metadado do nó\n",
    "        file_name = node.metadata.get('file_name', 'N/A')\n",
    "        page_label = node.metadata.get('page_label', 'N/A')\n",
    "        \n",
    "        # Extrai o score de similaridade\n",
    "        similarity_score = node.score\n",
    "        \n",
    "        # Extrai o conteúdo do nó (o texto)\n",
    "        node_content = node.get_content()\n",
    "\n",
    "        print(f\"Fonte {i+1}:\")\n",
    "        print(f\"  - Documento: {file_name}\")\n",
    "        print(f\"  - Página: {page_label}\")\n",
    "        print(f\"  - Relevância (Score): {similarity_score:.4f}\")\n",
    "        # Exibe um trecho do texto para contexto\n",
    "        print(f\"  - Trecho do Texto: \\\"{node_content[:200].strip()}...\\\"\\n\")\n",
    "else:\n",
    "    print(\"Nenhuma fonte foi utilizada para gerar esta resposta.\")"
   ]
  },
  {
   "cell_type": "markdown",
   "id": "0c0f3563",
   "metadata": {},
   "source": [
    "### Pessoa jurídica"
   ]
  },
  {
   "cell_type": "code",
   "execution_count": 54,
   "id": "aec4a433",
   "metadata": {},
   "outputs": [],
   "source": [
    "# indexação\n",
    "pj_index = VectorStoreIndex.from_documents(pj_docs)\n",
    "\n",
    "# criando o motor de busca\n",
    "pj_query_engine = pj_index.as_query_engine(\n",
    "    similarity_top_k=3,                         # \n",
    "    text_qa_template=prompt_acessivel           # \n",
    ")"
   ]
  },
  {
   "cell_type": "code",
   "execution_count": null,
   "id": "2a1f78cb",
   "metadata": {},
   "outputs": [],
   "source": [
    "response = pj_query_engine.query(\n",
    "    \"Em que casos a Contribuição para o PIS/Pasep e a Cofins são apuradas pelo regime de caixa?\"\n",
    "    )"
   ]
  },
  {
   "cell_type": "code",
   "execution_count": 56,
   "id": "46f55ce7",
   "metadata": {},
   "outputs": [
    {
     "data": {
      "text/html": [
       "<p style=\"font-size:20px\">As empresas que escolhem o regime de tributação do Imposto de Renda com base no Lucro Presumido podem calcular o PIS/Pasep e a Cofins pelo regime de caixa.\n",
       "\n",
       "Para isso, é necessário que elas também usem o regime de caixa para o Imposto de Renda (IRPJ) e para a Contribuição Social sobre o Lucro Líquido (CSLL).</p>"
      ],
      "text/plain": [
       "<IPython.core.display.HTML object>"
      ]
     },
     "metadata": {},
     "output_type": "display_data"
    },
    {
     "name": "stdout",
     "output_type": "stream",
     "text": [
      "\n",
      "--- Fontes Consultadas ---\n",
      "Fonte 1:\n",
      "  - Documento: faq_pj.pdf\n",
      "  - Página: 648\n",
      "  - Relevância (Score): 0.8507\n",
      "  - Trecho do Texto: \"648 \n",
      " \n",
      "Veja ainda: Contribuintes da Contribuição para o \n",
      "PIS/Pasep e da Cofins, incidentes sobre a \n",
      "receita ou o faturamento: \n",
      " Pergunta 001 \n",
      " Contribuintes da Contribuição para o \n",
      "PIS/Pasep e da Cofi...\"\n",
      "\n",
      "Fonte 2:\n",
      "  - Documento: faq_pj.pdf\n",
      "  - Página: 641\n",
      "  - Relevância (Score): 0.8451\n",
      "  - Trecho do Texto: \"641 \n",
      " \n",
      "Notas: \n",
      "1) Na receita bruta não se incluem os tributos não \n",
      "cumulativos cobrados, destacadamente, do \n",
      "comprador ou contratante pelo vendedor dos \n",
      "bens ou pelo prestador dos serviços na \n",
      "condiçã...\"\n",
      "\n",
      "Fonte 3:\n",
      "  - Documento: faq_pj.pdf\n",
      "  - Página: 642\n",
      "  - Relevância (Score): 0.8356\n",
      "  - Trecho do Texto: \"642 \n",
      " \n",
      "Notas: \n",
      "No caso de contrato de concessão de serviços \n",
      "públicos, a receita decorrente da construção, \n",
      "recuperação, reforma, ampliação ou \n",
      "melhoramento da infraestrutura, cuja \n",
      "contrapartida seja...\"\n",
      "\n"
     ]
    }
   ],
   "source": [
    "# Exibindo a resposta\n",
    "display(HTML(f'<p style=\"font-size:20px\">{response.response}</p>'))\n",
    "\n",
    "print(\"\\n--- Fontes Consultadas ---\")\n",
    "\n",
    "# Verifique se existem nós de origem antes de tentar iterar sobre eles\n",
    "if response.source_nodes:\n",
    "    for i, node in enumerate(response.source_nodes):\n",
    "        # Extrai as informações do metadado do nó\n",
    "        file_name = node.metadata.get('file_name', 'N/A')\n",
    "        page_label = node.metadata.get('page_label', 'N/A')\n",
    "        \n",
    "        # Extrai o score de similaridade\n",
    "        similarity_score = node.score\n",
    "        \n",
    "        # Extrai o conteúdo do nó (o texto)\n",
    "        node_content = node.get_content()\n",
    "\n",
    "        print(f\"Fonte {i+1}:\")\n",
    "        print(f\"  - Documento: {file_name}\")\n",
    "        print(f\"  - Página: {page_label}\")\n",
    "        print(f\"  - Relevância (Score): {similarity_score:.4f}\")\n",
    "        # Exibe um trecho do texto para contexto\n",
    "        print(f\"  - Trecho do Texto: \\\"{node_content[:200].strip()}...\\\"\\n\")\n",
    "else:\n",
    "    print(\"Nenhuma fonte foi utilizada para gerar esta resposta.\")"
   ]
  },
  {
   "cell_type": "markdown",
   "id": "d6b9fc74",
   "metadata": {},
   "source": [
    "# Criando o Agente"
   ]
  },
  {
   "cell_type": "code",
   "execution_count": null,
   "id": "bacfbc4f",
   "metadata": {},
   "outputs": [],
   "source": [
    "\n",
    "# Definição das ferramentas\n",
    "query_engine_tools = [\n",
    "    QueryEngineTool(\n",
    "        query_engine=pf_query_engine,\n",
    "        metadata=ToolMetadata(\n",
    "            name=\"imposto_renda_pessoa_fisica\",\n",
    "            description=(\n",
    "                \"Útil para responder perguntas sobre a declaração do Imposto de Renda \"\n",
    "                \"para Pessoas Físicas (IRPF). Cobre tópicos como deduções, isenções, \"\n",
    "                \"como declarar bens, rendimentos de aluguel e ganho de capital.\"\n",
    "            ),\n",
    "        ),\n",
    "    ),\n",
    "    \n",
    "    QueryEngineTool(\n",
    "        query_engine=pj_query_engine,\n",
    "        metadata=ToolMetadata(\n",
    "            name=\"imposto_renda_pessoa_juridica\",\n",
    "            description=(\n",
    "                \"Fornece respostas sobre a tributação de empresas (Pessoas Jurídicas). \"\n",
    "                \"Ideal para dúvidas sobre impostos como IRPJ, CSLL, PIS/Pasep e Cofins, \"\n",
    "                \"e regimes de apuração como Lucro Real e Lucro Presumido.\"\n",
    "            ),\n",
    "        ),\n",
    "    ),\n",
    "]\n",
    "\n",
    "# LLM\n",
    "llm = Gemini(model=\"gemini-1.5-flash\", api_key=gemini_api_key)\n",
    "\n",
    "# Agente\n",
    "agent = ReActAgent(\n",
    "    tools=query_engine_tools,\n",
    "    llm=llm,\n",
    "    verbose=True\n",
    ")"
   ]
  },
  {
   "cell_type": "code",
   "execution_count": null,
   "metadata": {},
   "outputs": [
    {
     "name": "stdout",
     "output_type": "stream",
     "text": [
      "Running step init_run\n",
      "Step init_run produced event AgentInput\n",
      "Running step setup_agent\n",
      "Step setup_agent produced event AgentSetup\n",
      "Running step run_agent_step\n",
      "Step run_agent_step produced event AgentOutput\n",
      "Running step parse_agent_output\n",
      "Step parse_agent_output produced no event\n",
      "Running step call_tool\n",
      "Step call_tool produced event ToolCallResult\n",
      "Running step aggregate_tool_results\n",
      "Step aggregate_tool_results produced event AgentInput\n",
      "Running step setup_agent\n",
      "Step setup_agent produced event AgentSetup\n",
      "Running step run_agent_step\n",
      "Step run_agent_step produced event AgentOutput\n",
      "Running step parse_agent_output\n",
      "Step parse_agent_output produced event StopEvent\n"
     ]
    }
   ],
   "source": [
    "response = agent.run(\"Como declaro o aluguel que recebi de um imóvel?\")"
   ]
  },
  {
   "cell_type": "code",
   "execution_count": null,
   "id": "4e67baa9",
   "metadata": {},
   "outputs": [
    {
     "data": {
      "text/html": [
       "<p style=\"font-size:20px\">Para declarar os rendimentos de aluguel recebidos, você precisa incluí-los na sua Declaração de Ajuste Anual (DAA) como rendimentos tributáveis.  Se o aluguel foi pago por uma pessoa física, você precisará fazer o recolhimento mensal do imposto (carnê-leão). Se pago por uma pessoa jurídica, o imposto pode ter sido retido na fonte.  Lembre-se que você pode deduzir o valor do IPTU pago do imóvel alugado, desde que tenha sido pago no mesmo ano e você seja o responsável pelo pagamento.  Se houver uma imobiliária envolvida, o aluguel é considerado recebido no mês em que o inquilino paga à imobiliária, independente de quando você recebe o valor.</p>"
      ],
      "text/plain": [
       "<IPython.core.display.HTML object>"
      ]
     },
     "metadata": {},
     "output_type": "display_data"
    }
   ],
   "source": [
    "display(HTML(f'<p style=\"font-size:20px\">{response}</p>'))"
   ]
  },
  {
   "cell_type": "code",
   "execution_count": null,
   "id": "f5ac4d8a",
   "metadata": {},
   "outputs": [
    {
     "name": "stdout",
     "output_type": "stream",
     "text": [
      "Running step init_run\n",
      "Step init_run produced event AgentInput\n",
      "Running step setup_agent\n",
      "Step setup_agent produced event AgentSetup\n",
      "Running step run_agent_step\n",
      "Step run_agent_step produced event AgentOutput\n",
      "Running step parse_agent_output\n",
      "Step parse_agent_output produced no event\n",
      "Running step call_tool\n",
      "Step call_tool produced event ToolCallResult\n",
      "Running step aggregate_tool_results\n",
      "Step aggregate_tool_results produced event AgentInput\n",
      "Running step setup_agent\n",
      "Step setup_agent produced event AgentSetup\n",
      "Running step run_agent_step\n",
      "Step run_agent_step produced event AgentOutput\n",
      "Running step parse_agent_output\n",
      "Step parse_agent_output produced event StopEvent\n"
     ]
    }
   ],
   "source": [
    "response = agent.run(\"Em que casos a Contribuição para o PIS/Pasep e a Cofins são apuradas pelo regime de caixa?\")"
   ]
  },
  {
   "cell_type": "code",
   "execution_count": null,
   "id": "183af6fb",
   "metadata": {},
   "outputs": [
    {
     "data": {
      "text/html": [
       "<p style=\"font-size:20px\">As contribuições para o PIS/Pasep e a Cofins são apuradas pelo regime de caixa para empresas que optam pelo lucro presumido no Imposto de Renda e utilizam o regime de caixa para o IRPJ e a CSLL.  Em resumo, a apuração pelo regime de caixa para PIS/Pasep e Cofins está condicionada à utilização do mesmo regime para o IRPJ e CSLL, no contexto do lucro presumido.</p>"
      ],
      "text/plain": [
       "<IPython.core.display.HTML object>"
      ]
     },
     "metadata": {},
     "output_type": "display_data"
    }
   ],
   "source": [
    "display(HTML(f'<p style=\"font-size:20px\">{response}</p>'))"
   ]
  }
 ],
 "metadata": {
  "kernelspec": {
   "display_name": ".venv",
   "language": "python",
   "name": "python3"
  },
  "language_info": {
   "codemirror_mode": {
    "name": "ipython",
    "version": 3
   },
   "file_extension": ".py",
   "mimetype": "text/x-python",
   "name": "python",
   "nbconvert_exporter": "python",
   "pygments_lexer": "ipython3",
   "version": "3.11.9"
  }
 },
 "nbformat": 4,
 "nbformat_minor": 5
}
